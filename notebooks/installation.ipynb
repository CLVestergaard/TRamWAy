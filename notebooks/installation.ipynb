{
 "cells": [
  {
   "cell_type": "code",
   "execution_count": 1,
   "metadata": {},
   "outputs": [
    {
     "name": "stdout",
     "output_type": "stream",
     "text": [
      "--------------------------------\n",
      "TRamWAy installation from GitHub\n",
      "--------------------------------\n",
      "\n",
      "get the HDF5 library, for example from: https://support.hdfgroup.org/downloads/index.html\n",
      "note: this is NOT a Python package and it should be installed in the OS's package system.\n",
      "\n",
      "run the following 4 commands in the directory where you would like the TRamWAy source to be:\n",
      "\n",
      "    git clone https://github.com/DecBayComp/TRamWAy\n",
      "    cd TRamWAy\n",
      "    pip3 install --user -r requirements.txt\n",
      "    pip3 install --user -e .\n",
      "\n"
     ]
    }
   ],
   "source": [
    "print('--------------------------------')\n",
    "print('TRamWAy installation from GitHub')\n",
    "print('--------------------------------')\n",
    "print()\n",
    "\n",
    "print('get the HDF5 library, for example from: https://support.hdfgroup.org/downloads/index.html')\n",
    "print(\"note: this is NOT a Python package and it should be installed in the OS's package system.\")\n",
    "print()\n",
    "\n",
    "print('run the following 4 commands in the directory where you would like the TRamWAy source to be:')\n",
    "print()\n",
    "\n",
    "print('    git clone https://github.com/DecBayComp/TRamWAy')\n",
    "print('    cd TRamWAy')\n",
    "print('    pip3 install --user -r requirements.txt')\n",
    "print('    pip3 install --user -e .')\n",
    "print()"
   ]
  },
  {
   "cell_type": "code",
   "execution_count": 2,
   "metadata": {},
   "outputs": [
    {
     "name": "stdout",
     "output_type": "stream",
     "text": [
      "------------------------------------\n",
      "Update TRamWAy installed from GitHub\n",
      "------------------------------------\n",
      "\n",
      "go the TRamWAy source directory and update the source:\n",
      "\n",
      "    cd TRamWAy\n",
      "    git pull\n",
      "\n",
      "if you have not updated in a while, you may reinstall TRamWAy:\n",
      "\n",
      "    pip3 install --upgrade --user -e .\n",
      "\n"
     ]
    }
   ],
   "source": [
    "print('------------------------------------')\n",
    "print('Update TRamWAy installed from GitHub')\n",
    "print('------------------------------------')\n",
    "print()\n",
    "\n",
    "print('go the TRamWAy source directory and update the source:')\n",
    "print()\n",
    "\n",
    "print('    cd TRamWAy')\n",
    "print('    git pull')\n",
    "print()\n",
    "\n",
    "print('if you have not updated in a while, you may reinstall TRamWAy:')\n",
    "print()\n",
    "\n",
    "print('    pip3 install --upgrade --user -e .')\n",
    "print()\n",
    "\n",
    "print('if you are running Python3 sessions (e.g. notebooks), restart them.')\n",
    "print()"
   ]
  }
 ],
 "metadata": {
  "kernelspec": {
   "display_name": "Python 3",
   "language": "python",
   "name": "python3"
  },
  "language_info": {
   "codemirror_mode": {
    "name": "ipython",
    "version": 3
   },
   "file_extension": ".py",
   "mimetype": "text/x-python",
   "name": "python",
   "nbconvert_exporter": "python",
   "pygments_lexer": "ipython3",
   "version": "3.6.7"
  }
 },
 "nbformat": 4,
 "nbformat_minor": 2
}
