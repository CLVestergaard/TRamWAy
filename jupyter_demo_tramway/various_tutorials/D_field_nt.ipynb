{
 "cells": [
  {
   "cell_type": "code",
   "execution_count": 1,
   "metadata": {},
   "outputs": [
    {
     "ename": "SyntaxError",
     "evalue": "invalid syntax (base.py, line 2258)",
     "output_type": "error",
     "traceback": [
      "Traceback \u001b[0;36m(most recent call last)\u001b[0m:\n",
      "  File \u001b[1;32m\"/usr/local/Cellar/ipython/7.1.1/libexec/lib/python3.7/site-packages/IPython/core/interactiveshell.py\"\u001b[0m, line \u001b[1;32m3267\u001b[0m, in \u001b[1;35mrun_code\u001b[0m\n    exec(code_obj, self.user_global_ns, self.user_ns)\n",
      "  File \u001b[1;32m\"<ipython-input-1-5ad153f47706>\"\u001b[0m, line \u001b[1;32m10\u001b[0m, in \u001b[1;35m<module>\u001b[0m\n    from tramway.helper import *\n",
      "  File \u001b[1;32m\"/Users/cvesterg/ownCloud/Random walks/TRamWAy/TRamWAy/tramway/helper/__init__.py\"\u001b[0m, line \u001b[1;32m17\u001b[0m, in \u001b[1;35m<module>\u001b[0m\n    from .inference import *\n",
      "  File \u001b[1;32m\"/Users/cvesterg/ownCloud/Random walks/TRamWAy/TRamWAy/tramway/helper/inference.py\"\u001b[0m, line \u001b[1;32m17\u001b[0m, in \u001b[1;35m<module>\u001b[0m\n    from tramway.inference import *\n",
      "\u001b[0;36m  File \u001b[0;32m\"/Users/cvesterg/ownCloud/Random walks/TRamWAy/TRamWAy/tramway/inference/__init__.py\"\u001b[0;36m, line \u001b[0;32m15\u001b[0;36m, in \u001b[0;35m<module>\u001b[0;36m\u001b[0m\n\u001b[0;31m    from .base import *\u001b[0m\n",
      "\u001b[0;36m  File \u001b[0;32m\"/Users/cvesterg/ownCloud/Random walks/TRamWAy/TRamWAy/tramway/inference/base.py\"\u001b[0;36m, line \u001b[0;32m2258\u001b[0m\n\u001b[0;31m    >>>>>>> master\u001b[0m\n\u001b[0m     ^\u001b[0m\n\u001b[0;31mSyntaxError\u001b[0m\u001b[0;31m:\u001b[0m invalid syntax\n"
     ]
    }
   ],
   "source": [
    "# -------------------------------\n",
    "# Libraries\n",
    "# -------------------------------\n",
    "%matplotlib inline\n",
    "from time import time\n",
    "import matplotlib.pylab as plt\n",
    "import os.path\n",
    "from math import *\n",
    "import numpy as np\n",
    "from tramway.helper import *\n",
    "from tramway.helper.simulation import *\n",
    "from tramway.helper.tessellation import *\n",
    "from tramway.helper.inference import *\n",
    "from tramway.plot.mesh import plot_delaunay\n",
    "from numpy.random import seed\n",
    "#from scipy.stats import skellam\n",
    "#from scipy.optimize import fmin,minimize\n",
    "\n",
    "#--------------------------------\n",
    "# Functions\n",
    "#--------------------------------\n",
    "def D_field(r,t):\n",
    "    '''Defining the diffusivity field: Gaussian in space, constant in time.'''\n",
    "    return D - (D-D0)*np.exp(-np.sum((r/r_scale-mu_r)**2)/sig_r) \n",
    "\n",
    "def new_tracers(t):\n",
    "    '''Number of tracers to appear in each frame n ~ Poisson(mu_on).'''\n",
    "    return np.random.poisson(mu_on)\n",
    "\n",
    "def inner_cells(cells_):\n",
    "    indices = cells_.tessellation.cell_vertices\n",
    "    vertices = cells_.tessellation.vertices\n",
    "    cells_to_include = []\n",
    "    for i in range(len(indices)):\n",
    "        cells_to_include.append( not ((vertices[indices[i]]<=0)|(vertices[indices[i]]>=r_scale)).any() )\n",
    "    return cells_to_include\n",
    "\n",
    "#--------------------------------\n",
    "# Constants and parameters:\n",
    "#--------------------------------\n",
    "# Tesselation method and name:\n",
    "tessellation_method = 'hexagon'\n",
    "mesh_label = '{}'.format(tessellation_method) #, location_count, min_location_count)\n",
    "min_loc_count = 0\n",
    "# Optimization parameters:\n",
    "nt_method = ('nT_test02_hex', 'NM')\n",
    "tol = 1e-2\n",
    "\n",
    "# Normalized placement and with of diffusivity well:\n",
    "mu_r=np.array([0.5,0.5]) \n",
    "sig_r=0.05\n",
    "# Size of the bounding box:\n",
    "r_scale = 10. # [um]\n",
    "# Reference distance to set mesh size:\n",
    "ref_distance = 1. # [mu]\n",
    "\n",
    "# baseline diffusivity:\n",
    "D = 0.5 # [um^2.s^-1]\n",
    "# diffusivity at the bottom of the sink:\n",
    "D0 = 0.05 # [um^2.s^-1]\n",
    "# number of trajectories:\n",
    "M = 100\n",
    "# time step:\n",
    "dt = 0.05 # [s]\n",
    "# average trajectory lifetime (+ p_off and mu_on):\n",
    "tau = 0.2\n",
    "p_off = dt/tau\n",
    "mu_on = p_off*M\n",
    "# Simulation duration:\n",
    "T = 1.0 # [s]\n",
    "# position noise:\n",
    "sigma = 0. # [um]\n",
    "# Number of ensembles to test:\n",
    "Q = 1\n"
   ]
  },
  {
   "cell_type": "code",
   "execution_count": null,
   "metadata": {},
   "outputs": [],
   "source": [
    "#--------------------------------\n",
    "# Simulate:\n",
    "#--------------------------------\n",
    "seed(1234567890)\n",
    "## generate the trajectories\n",
    "q=0\n",
    "\n",
    "data_nxyt = random_walk(diffusivity=D_field, duration=T, lifetime_tau=tau, single=True, reflect=True, \n",
    "                  trajectory_mean_count=M, box=[0.,0.,r_scale,r_scale], )\n",
    "data_nxyt = data_nxyt.dropna()\n",
    "data_xyt = data_nxyt.drop('n',axis=1)\n",
    "\n",
    "# tesselate for trajectories:\n",
    "cells_nxyt = tessellate(data_nxyt, tessellation_method, ref_distance=ref_distance, min_location_count=0,\n",
    "           strict_min_location_count=min_loc_count,\n",
    "           force=True, output_label=mesh_label)\n",
    "# tesselate for positions:\n",
    "cells_xyt = tessellate(data_xyt, tessellation_method, ref_distance=ref_distance, min_location_count=0,\n",
    "           strict_min_location_count=min_loc_count,\n",
    "           force=True, output_label=mesh_label)\n",
    "\n",
    "cells_to_include = inner_cells(cells_xyt)    \n",
    "cells_xyt.tessellation.cell_label = np.array(cells_to_include)\n",
    "cells_nxyt.tessellation.cell_label = np.array(cells_to_include)\n",
    "\n",
    "## plot positions and tesselations:\n",
    "cell_plot(cells_nxyt, cell_indices=True)\n",
    "cell_plot(cells_xyt, cell_indices=True)\n",
    "# Plot numbers of positions per cell:\n",
    "map_plot((pd.DataFrame(cells_xyt.location_count, columns=['N'])),cells=cells_xyt) #,cmap='inferno') "
   ]
  },
  {
   "cell_type": "code",
   "execution_count": null,
   "metadata": {},
   "outputs": [],
   "source": [
    "# ------------------------------------------------\n",
    "# infer in D mode without spatial regularization\n",
    "# ------------------------------------------------\n",
    "maps_nxyt = infer(cells_nxyt, 'D', \n",
    "             sigma=sigma, verbose=False)\n",
    "\n",
    "print(maps_nxyt)"
   ]
  },
  {
   "cell_type": "code",
   "execution_count": null,
   "metadata": {
    "scrolled": true
   },
   "outputs": [],
   "source": [
    "# ------------------------------------------------\n",
    "# infer using nontracking (D mode without spatial regularization only)\n",
    "# ------------------------------------------------\n",
    "fittime = time.time()\n",
    "maps_xyt = infer(cells_xyt, nt_method[0], new_cell=Locations, dt=dt, p_off=p_off, mu_on=mu_on,\n",
    "        method=nt_method[1], tol=tol)\n",
    "print(time.time()-fittime, \"s\")"
   ]
  },
  {
   "cell_type": "code",
   "execution_count": null,
   "metadata": {},
   "outputs": [],
   "source": [
    "centers = cells_nxyt.tessellation.cell_centers\n",
    "D_true = pd.DataFrame([D_field(c_,0.) for c_ in centers],columns=['D'])\n",
    "maps_true = Maps(D_true)\n",
    "map_plot(maps_true, cells=cells_nxyt, title=False, cmap='inferno', clim=[0,1])\n",
    "map_plot(maps_true, cells=cells_nxyt, title=False, cmap='inferno', clim=[0,1], \n",
    "         output_file='map(D_true),D=[{D0},{D}],tau={tau},dt={dt},sig_r={sig_r},box={r_scale},T={T},M={M},r_cell={ref_distance},q={q}.png')\n",
    "\n",
    "## plot the force\n",
    "map_plot(maps_nxyt, cells=cells_nxyt, title=False, cmap='inferno',clim=[0,1])\n",
    "map_plot(maps_nxyt, cells=cells_nxyt, title=False, cmap='inferno',clim=[0,1], \n",
    "         output_file='map(D_nxyt),D=[{D0},{D}],tau={tau},dt={dt},sig_r={sig_r},box={r_scale},T={T},M={M},r_cell={ref_distance},q={q}.png')\n",
    "\n",
    "# other variables are 'diffusivity' and 'potential'\n",
    "\n",
    "map_plot(maps_xyt, cells=cells_xyt, title=False, cmap='inferno',clim=[0,1])\n",
    "map_plot(maps_xyt, cells=cells_xyt, title=False, cmap='inferno',clim=[0,1], \n",
    "         output_file='map(D_xyt),D=[{D0},{D}],tau={tau},dt={dt},sig_r={sig_r},box={r_scale},T={T},M={M},r_cell={ref_distance},q={q}.png')\n",
    "\n",
    "maps_diffs = Maps(pd.DataFrame(maps_xyt.maps['D'] - maps_nxyt.maps['diffusivity'],columns=['D']))\n",
    "c_lim = max([max(maps_xyt.maps['D']),-min(maps_xyt.maps['D'])])\n",
    "map_plot(maps_diffs, cells=cells_xyt, title=False, cmap='seismic', clim=[-c_lim,c_lim])\n",
    "map_plot(maps_diffs, cells=cells_xyt, title=False, cmap='seismic', clim=[-c_lim,c_lim],\n",
    "         output_file='map(D_xyt-D_nxyt),D=[{D0},{D}],tau={tau},dt={dt},sig_r={sig_r},box={r_scale},T={T},M={M},r_cell={ref_distance},q={q}.png')\n"
   ]
  },
  {
   "cell_type": "code",
   "execution_count": null,
   "metadata": {},
   "outputs": [],
   "source": [
    "# bD_nxyt = (maps_nxyt['diffusivity']['diffusivity']-D_true['D'])/(D_true['D']*np.sqrt(2./cells_nxyt.location_count))\n",
    "# bD_xyt = (maps_xyt['D']['D']-D_true['D'])/(D_true['D']*np.sqrt(2./cells_xyt.location_count))\n",
    "bD_nxyt = (maps_nxyt['diffusivity']['diffusivity']-D_true['D'])/(D_true['D'])\n",
    "bD_xyt = (maps_xyt['D']['D']-D_true['D'])/(D_true['D'])\n",
    "plt.hist(bD_nxyt.dropna().values)\n",
    "plt.hist(bD_xyt.dropna().values)"
   ]
  },
  {
   "cell_type": "code",
   "execution_count": null,
   "metadata": {},
   "outputs": [],
   "source": [
    "analysis_tree_nxyt = Analyses(data_nxyt)\n",
    "analysis_tree_nxyt.add(cells_nxyt, label='mesh')\n",
    "analysis_tree_nxyt['mesh'].add(maps_nxyt, label='diffusivity')\n",
    "print(analysis_tree_nxyt['mesh']['diffusivity'].data.maps)\n",
    "save_rwa(f'analyses_nxyt,D=[{D0},{D}],tau={tau},dt={dt},sig_r={sig_r},box={r_scale},T={T},M={M},r_cell={ref_distance},q={q}.rwa', analysis_tree_nxyt)\n",
    "\n",
    "#maps_xyt = pd.read_csv('Estimates-1.txt', sep='\\t', index_col=0, names=['diffusivity'])\n",
    "analysis_tree_xyt = Analyses(data_xyt)\n",
    "analysis_tree_xyt.add(cells_xyt, label='mesh')\n",
    "analysis_tree_xyt['mesh'].add(maps_xyt, label='diffusivity')\n",
    "print(analysis_tree_xyt['mesh']['diffusivity'].data.maps)\n",
    "save_rwa(f'analyses_xyt,D=[{D0},{D}],tau={tau},dt={dt},sig_r={sig_r},box={r_scale},T={T},M={M},r_cell={ref_distance},q={q}.rwa', analysis_tree_xyt)\n"
   ]
  },
  {
   "cell_type": "code",
   "execution_count": null,
   "metadata": {},
   "outputs": [],
   "source": [
    "#--------------------------------\n",
    "# Simulate:\n",
    "#--------------------------------\n",
    "seed(1234567890)\n",
    "## generate the trajectories\n",
    "Q=1\n",
    "Ds_nxyt = []\n",
    "bDs_nxyt = []\n",
    "Ds_xyt = []\n",
    "bDs_xyt = []\n",
    "for q in range(Q):\n",
    "    print(f\"{q}/{Q}\")\n",
    "    nxyt = random_walk(diffusivity=D_field, duration=T, lifetime_tau=tau, single=True, reflect=True, \n",
    "                      trajectory_mean_count=M, box=[0.,0.,r_scale,r_scale], )\n",
    "    nxyt = nxyt.dropna()\n",
    "    # tesselate for trajectories:\n",
    "    cells_nxyt = tessellate(nxyt, tessellation_method, ref_distance=ref_distance, min_location_count=0,\n",
    "                strict_min_location_count=min_loc_count, force=True, output_label=mesh_label)\n",
    "    # tesselate for positions:\n",
    "    xyt = nxyt.drop('n',axis=1)\n",
    "    cells_xyt = tessellate(xyt, tessellation_method, ref_distance=ref_distance, min_location_count=0,\n",
    "                strict_min_location_count=min_loc_count, force=True, output_label=mesh_label)\n",
    "    # ------------------------------------------------\n",
    "    # infer in D mode without spatial regularization\n",
    "    # ------------------------------------------------\n",
    "    centers = cells_nxyt.tessellation.cell_centers\n",
    "    D_true = pd.DataFrame([D_field(c_,0.) for c_ in centers],columns=['D'])\n",
    "    \n",
    "    maps_nxyt = infer(cells_nxyt, 'D', \n",
    "                 sigma=sigma, verbose=False)\n",
    "    D_nxyt = maps_nxyt['diffusivity']['diffusivity']\n",
    "    Ds_nxyt.append(D_nxyt)\n",
    "    bD_nxyt = (D_nxyt-D_true['D'])/(D_true['D']*np.sqrt(2./cells_nxyt.location_count))\n",
    "    bDs_nxyt.extend(bD_nxyt.dropna().values)\n",
    "    \n",
    "    maps_xyt = infer(cells_xyt, nt_method[0], new_cell=Locations, dt=dt, p_off=p_off, mu_on=mu_on,\n",
    "                method=nt_method[1], tol=tol)\n",
    "    D_xyt = maps_xyt['D']['D']\n",
    "    Ds_xyt.append(D_xyt)\n",
    "    bD_xyt = (D_xyt-D_true['D'])/(D_true['D']*np.sqrt(2./cells_xyt.location_count))\n",
    "    bDs_xyt.extend(bD_xyt.dropna().values)\n"
   ]
  },
  {
   "cell_type": "code",
   "execution_count": null,
   "metadata": {},
   "outputs": [],
   "source": [
    "plt.hist(bDs_nxyt)\n",
    "plt.hist(bDs_xyt)"
   ]
  },
  {
   "cell_type": "code",
   "execution_count": null,
   "metadata": {},
   "outputs": [],
   "source": [
    "help(cell_plot)"
   ]
  },
  {
   "cell_type": "code",
   "execution_count": null,
   "metadata": {},
   "outputs": [],
   "source": [
    "xyt"
   ]
  },
  {
   "cell_type": "code",
   "execution_count": null,
   "metadata": {},
   "outputs": [],
   "source": [
    "nxyt"
   ]
  },
  {
   "cell_type": "code",
   "execution_count": null,
   "metadata": {},
   "outputs": [],
   "source": [
    "print(cells_xyt.points)"
   ]
  },
  {
   "cell_type": "code",
   "execution_count": null,
   "metadata": {},
   "outputs": [],
   "source": [
    "cell_plot(cells_xyt, cell_indices=True)\n"
   ]
  },
  {
   "cell_type": "code",
   "execution_count": null,
   "metadata": {},
   "outputs": [],
   "source": []
  }
 ],
 "metadata": {
  "kernelspec": {
   "display_name": "Python 3",
   "language": "python",
   "name": "python3"
  },
  "language_info": {
   "codemirror_mode": {
    "name": "ipython",
    "version": 3
   },
   "file_extension": ".py",
   "mimetype": "text/x-python",
   "name": "python",
   "nbconvert_exporter": "python",
   "pygments_lexer": "ipython3",
   "version": "3.7.1"
  },
  "latex_envs": {
   "LaTeX_envs_menu_present": true,
   "autoclose": false,
   "autocomplete": true,
   "bibliofile": "biblio.bib",
   "cite_by": "apalike",
   "current_citInitial": 1,
   "eqLabelWithNumbers": true,
   "eqNumInitial": 1,
   "hotkeys": {
    "equation": "Ctrl-E",
    "itemize": "Ctrl-I"
   },
   "labels_anchors": false,
   "latex_user_defs": false,
   "report_style_numbering": false,
   "user_envs_cfg": false
  },
  "toc": {
   "base_numbering": 1,
   "nav_menu": {},
   "number_sections": true,
   "sideBar": true,
   "skip_h1_title": false,
   "title_cell": "Table of Contents",
   "title_sidebar": "Contents",
   "toc_cell": false,
   "toc_position": {},
   "toc_section_display": true,
   "toc_window_display": false
  },
  "varInspector": {
   "cols": {
    "lenName": 16,
    "lenType": 16,
    "lenVar": 40
   },
   "kernels_config": {
    "python": {
     "delete_cmd_postfix": "",
     "delete_cmd_prefix": "del ",
     "library": "var_list.py",
     "varRefreshCmd": "print(var_dic_list())"
    },
    "r": {
     "delete_cmd_postfix": ") ",
     "delete_cmd_prefix": "rm(",
     "library": "var_list.r",
     "varRefreshCmd": "cat(var_dic_list()) "
    }
   },
   "types_to_exclude": [
    "module",
    "function",
    "builtin_function_or_method",
    "instance",
    "_Feature"
   ],
   "window_display": false
  }
 },
 "nbformat": 4,
 "nbformat_minor": 2
}
