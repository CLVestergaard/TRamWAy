{
 "cells": [
  {
   "cell_type": "code",
   "execution_count": 1,
   "metadata": {
    "collapsed": false
   },
   "outputs": [
    {
     "ename": "NameError",
     "evalue": "name 'tessellation_method' is not defined",
     "output_type": "error",
     "traceback": [
      "\u001b[0;31m---------------------------------------------------------------------------\u001b[0m",
      "\u001b[0;31mNameError\u001b[0m                                 Traceback (most recent call last)",
      "\u001b[0;32m<ipython-input-1-dc1795c3940e>\u001b[0m in \u001b[0;36m<module>\u001b[0;34m()\u001b[0m\n\u001b[1;32m     33\u001b[0m \u001b[0;34m\u001b[0m\u001b[0m\n\u001b[1;32m     34\u001b[0m \u001b[0mrwa_file\u001b[0m \u001b[0;34m=\u001b[0m \u001b[0mos\u001b[0m\u001b[0;34m.\u001b[0m\u001b[0mpath\u001b[0m\u001b[0;34m.\u001b[0m\u001b[0msplitext\u001b[0m\u001b[0;34m(\u001b[0m\u001b[0mpositions_file\u001b[0m\u001b[0;34m)\u001b[0m\u001b[0;34m[\u001b[0m\u001b[0;36m0\u001b[0m\u001b[0;34m]\u001b[0m\u001b[0;34m+\u001b[0m\u001b[0;34m'.rwa'\u001b[0m\u001b[0;34m\u001b[0m\u001b[0m\n\u001b[0;32m---> 35\u001b[0;31m \u001b[0mmesh_label\u001b[0m \u001b[0;34m=\u001b[0m \u001b[0;34m'{}'\u001b[0m\u001b[0;34m.\u001b[0m\u001b[0mformat\u001b[0m\u001b[0;34m(\u001b[0m\u001b[0mtessellation_method\u001b[0m\u001b[0;34m)\u001b[0m \u001b[0;31m#, location_count, min_location_count)\u001b[0m\u001b[0;34m\u001b[0m\u001b[0m\n\u001b[0m\u001b[1;32m     36\u001b[0m \u001b[0;31m#maps_label = 'sigma_{}_d_{}_v_{}_j_{:d}'.format(round(localization_error*1e3), diffusivity_smoothing, potential_smoothing, int(jeffreys_prior))\u001b[0m\u001b[0;34m\u001b[0m\u001b[0;34m\u001b[0m\u001b[0m\n\u001b[1;32m     37\u001b[0m \u001b[0;34m\u001b[0m\u001b[0m\n",
      "\u001b[0;31mNameError\u001b[0m: name 'tessellation_method' is not defined"
     ]
    }
   ],
   "source": [
    "from tramway.helper.tessellation import *\n",
    "from tramway.helper.inference import *\n",
    "from tramway.plot.mesh import plot_delaunay\n",
    "import matplotlib.pyplot as plt\n",
    "from scipy.stats import skellam\n",
    "from scipy.optimize import fmin,minimize\n",
    "\n",
    "## script main parameters ##\n",
    "\n",
    "positions_file = '/Users/cvesterg/ownCloud/Random walks/Mapping without tracking/BP_data/Rac1/15_06_2016/reference/c01.txt'\n",
    "positions_file = '/Users/cvesterg/ownCloud/Random walks/Mapping without tracking/BP_data/MWT_Rac1/4/trajectories.txt'\n",
    "trajectories_bool=True\n",
    "\n",
    "\n",
    "# average number of locations per cell\n",
    "#location_count = 10\n",
    "# minimum number of locations per cell\n",
    "#min_location_count = 2\n",
    "# start and end times to consider for fit\n",
    "#t_start=1.00; t_end=1.04\n",
    "\n",
    "# in the same unit as in the trajectory file (here in micrometers)\n",
    "ref_distance=0.1\n",
    "localization_error = 0.03\n",
    "dt=0.04\n",
    "#jeffreys_prior = False\n",
    "#diffusivity_smoothing\n",
    "# keep it low otherwise the inference will take days\n",
    "max_iter = 100\n",
    "\n",
    "\n",
    "############################\n",
    "\n",
    "rwa_file = os.path.splitext(positions_file)[0]+'.rwa'\n",
    "mesh_label = '{}'.format(tessellation_method) #, location_count, min_location_count)\n",
    "#maps_label = 'sigma_{}_d_{}_v_{}_j_{:d}'.format(round(localization_error*1e3), diffusivity_smoothing, potential_smoothing, int(jeffreys_prior))\n",
    "\n",
    "############################\n",
    "\n",
    "positions_all=load_xyt(positions_file)\n",
    "if trajectories_bool==True:\n",
    "    positions_all=positions_all.drop(['n'],axis=1)\n",
    "else:\n",
    "    positions_all=positions_all.drop(['t'],axis=1)\n",
    "    positions_all.columns=(['x','y','t'])\n",
    "r_t=positions_all\n",
    "#r_t=r_t.drop(['n'],axis=1)\n",
    "#r_t.head()\n",
    "r_t.tail()"
   ]
  },
  {
   "cell_type": "code",
   "execution_count": null,
   "metadata": {
    "collapsed": false,
    "scrolled": true
   },
   "outputs": [],
   "source": [
    "# ts=np.sort(list(set(r_t['t'])))\n",
    "# N_t=np.array([len(r_t[r_t['t']==t_].index) for t_ in ts])\n",
    "# plt.plot(ts,N_t)\n",
    "# plt.plot(ts[1:-1],N_t[1:-1])\n",
    "# plt.plot([ts[0],ts[-1]],np.average(N_t[1:-1])*np.ones(2),'k--')\n",
    "# plt.show()\n",
    "\n",
    "# Deltas=np.diff(N_t[1:-1])\n",
    "# plt.plot(ts[2:-1],Deltas)\n",
    "# plt.show()\n",
    "# print np.average(Deltas)"
   ]
  },
  {
   "cell_type": "code",
   "execution_count": null,
   "metadata": {
    "collapsed": false
   },
   "outputs": [],
   "source": [
    "# def mlnL_Deltas2(mus_,Deltas_):\n",
    "#     mu_on=mus_[0]\n",
    "#     mu_off=mus_[1]\n",
    "#     return -sum([np.log(skellam.pmf(Delta,mu_on,mu_off)) for Delta in Deltas_])\n",
    "\n",
    "# mu_on,mu_off=fmin(mlnL_Deltas2,x0=[100.,100.],args=(Deltas,))\n",
    "# p_off=mu_off/np.average(N_t[1:-1])\n",
    "\n",
    "# x_D=np.arange(np.floor(min(Deltas)),max(Deltas),1)\n",
    "# x_D=np.arange(-50,51,1)\n",
    "# h=5\n",
    "# bins=np.arange(-50-h/2.,51,h)\n",
    "\n",
    "# F=plt.figure()\n",
    "# #F.set_size_inches(3.375*0.5,1.5)\n",
    "# plt.axes([0.22,0.22,0.74,0.74])\n",
    "# plt.hist(Deltas,label='Data',bins=bins)\n",
    "# plt.plot(x_D,h*len(Deltas)*skellam.pmf(x_D,mu_on,mu_off),'r',label='Theory')\n",
    "# plt.legend(loc=2,frameon=False)\n",
    "# plt.xlabel(r'$\\Delta$',labelpad=2)\n",
    "# plt.ylabel(r'Count',labelpad=0)\n",
    "# plt.axis([-50,50,0,100])\n",
    "# plt.show()\n",
    "\n",
    "mu_on=96.4809296249 \n",
    "mu_off=96.4789899237\n",
    "p_off=0.259937348758\n",
    "\n",
    "print mu_on,mu_off,p_off"
   ]
  },
  {
   "cell_type": "code",
   "execution_count": null,
   "metadata": {
    "collapsed": false
   },
   "outputs": [],
   "source": [
    "t_start=0.04\n",
    "t_end=1.04\n",
    "\n",
    "if t_end==0.0:\n",
    "    r_t=positions_all\n",
    "else:\n",
    "    r_t=positions_all[(positions_all['t']>=t_start)&(positions_all['t']<=t_end)]\n",
    "#r_t\n",
    "\n",
    "xlims=(34.,50.)\n",
    "ylims=(24.,54.)\n",
    "xlims=(37.,40.)\n",
    "ylims=(37.,40.)\n",
    "r_t=r_t[(r_t['x']>=xlims[0]) & (r_t['x']<=xlims[1]) & (r_t['y']>=ylims[0]) & (r_t['y']<=ylims[1])]"
   ]
  },
  {
   "cell_type": "code",
   "execution_count": null,
   "metadata": {
    "collapsed": false
   },
   "outputs": [],
   "source": [
    "ref_distance = 0.5 # [mu]\n",
    "\n",
    "tessellation_method = 'hexagon'\n",
    "tessellate(r_t, tessellation_method, ref_distance=ref_distance, min_location_count=0, output_file=rwa_file,\\\n",
    "           force=True, output_label=mesh_label)\n"
   ]
  },
  {
   "cell_type": "code",
   "execution_count": null,
   "metadata": {
    "collapsed": false
   },
   "outputs": [],
   "source": [
    "cell_plot(rwa_file, cell_indices=True, show=True)\n",
    "#cell_plot(rwa_file, cell_indices=True, show=True, delaunay=True, voronoi=False)\n",
    "\n"
   ]
  },
  {
   "cell_type": "code",
   "execution_count": null,
   "metadata": {
    "collapsed": false,
    "scrolled": true
   },
   "outputs": [],
   "source": [
    "runtime=time()\n",
    "#infer(rwa_file, 'nT_test02_optim', new_cell=Locations, dt=0.04, S=(2.*ref_distance)**2, p_off=p_off, mu_on=mu_on,\\\n",
    "#      times=times, method='NM', tol=1e-2)\n",
    "infer(rwa_file, 'nT_test02_hex', new_cell=Locations, dt=0.04, S=(2.*ref_distance)**2, p_off=p_off, mu_on=mu_on,\\\n",
    "        method='NM', tol=1e-2)\n",
    "print \"\\n Done!\", time()-runtime, \"s\""
   ]
  },
  {
   "cell_type": "code",
   "execution_count": null,
   "metadata": {
    "collapsed": false
   },
   "outputs": [],
   "source": [
    "map_plot(rwa_file,cmap='inferno') #, output_file='BP_1zone'+tessellation_method+','+str(2.*ref_distance)+'.png') \n",
    "#) #, label=(mesh_label, maps_label))"
   ]
  },
  {
   "cell_type": "code",
   "execution_count": null,
   "metadata": {
    "collapsed": false
   },
   "outputs": [],
   "source": []
  },
  {
   "cell_type": "code",
   "execution_count": null,
   "metadata": {
    "collapsed": true
   },
   "outputs": [],
   "source": []
  },
  {
   "cell_type": "code",
   "execution_count": null,
   "metadata": {
    "collapsed": true
   },
   "outputs": [],
   "source": []
  }
 ],
 "metadata": {
  "kernelspec": {
   "display_name": "Python 3",
   "language": "python",
   "name": "python3"
  },
  "language_info": {
   "codemirror_mode": {
    "name": "ipython",
    "version": 2
   },
   "file_extension": ".py",
   "mimetype": "text/x-python",
   "name": "python",
   "nbconvert_exporter": "python",
   "pygments_lexer": "ipython2",
   "version": "2.7.13"
  }
 },
 "nbformat": 4,
 "nbformat_minor": 2
}
