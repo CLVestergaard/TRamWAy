{
 "cells": [
  {
   "cell_type": "code",
   "execution_count": 1,
   "metadata": {
    "collapsed": false
   },
   "outputs": [],
   "source": [
    "from nonTracking_02 import *\n",
    "\n",
    "#=============================================================================\n",
    "# Parameters\n",
    "#=============================================================================\n",
    "# Initialize seed of PRNG:\n",
    "seed(129041982)\n",
    "#-----------------------------------------------------------------------------\n",
    "# Physical parameters:\n",
    "#-----------------------------------------------------------------------------\n",
    "S=10. # Surface of box [mu^2]\n",
    "L=sqrt(S) # Linear size of box [mu]\n",
    "rho=1. # Particle density [1/mu^2]\n",
    "avg_N=int(rho*L**2) # Average number of particles in each frame\n",
    "D=10. # Diffusion coefficient [mu^2/s]\n",
    "dt=0.01 # Time lapse between images [s]\n",
    "p_off=0.0 # Probability for each particle to disappear per frame\n",
    "mu_off=avg_N*p_off # Average number of particles disappearing per frame\n",
    "mu_on=mu_off # Average number of particles appearing per frame (set equal to mu_off)\n",
    "nF=10 # Number of time lapses recorded (= number of frames minus one)\n",
    "ensembleSize=1 # Size of Monte Carlo ensemble\n",
    "tries=1 # Number of \n",
    "nL=0.0001\n",
    "#-----------------------------------------------------------------------------\n",
    "# Fit parameters:\n",
    "#-----------------------------------------------------------------------------\n",
    "Da=0.1*D\n",
    "Db=10.*D\n"
   ]
  },
  {
   "cell_type": "code",
   "execution_count": 6,
   "metadata": {
    "collapsed": false
   },
   "outputs": [
    {
     "name": "stdout",
     "output_type": "stream",
     "text": [
      "Parameter values: L = 3.16227766017 ; rho = 1.0 ; D = 10.0 ; dt = 0.01 ; p_off = 0.0 ; mu_on = 0.0 ; number of frames: 10\n",
      "\\Average number of particles per frame: 10.0\n",
      "Average number of true links per frame: 10.0\n",
      "\n",
      "Fit using:\n",
      "  --- true matching: ---\n",
      "    D_est = 9.74156643027 (time to fit: 0.000655889511108s )\n",
      "  --- non-tracking (BP): ---\n",
      "    D_est = 9.08685720403 (time to fit: 7.93795990944s )\n",
      " --- most probable assignment: ---\n",
      "    D_est = 7.98914677008 (time to fit: 0.0948519706726s )\n"
     ]
    }
   ],
   "source": [
    "t_tot=time()\n",
    "print \"Parameter values: L =\",L, \"; rho =\",rho, \"; D =\",D, \"; dt =\",dt, \"; p_off =\",p_off, \"; mu_on =\", mu_on,\\\n",
    "        \"; number of frames:\",nF\n",
    "\n",
    "# Generate trajectories:\n",
    "Ns_true, drs_true, Ns, drs_ij = simulate_BM(L, rho, D, dt, p_off, mu_on, nF, avg_N)\n",
    "print \"\\Average number of particles per frame: \"+str(np.average(Ns))\n",
    "print \"Average number of true links per frame: \"+str(np.average(Ns_true))\n",
    "\n",
    "print \"\\nFit using:\"\n",
    "# True assignment:\n",
    "t_true=time()\n",
    "sol_true=np.sum([np.average(dr_**2)*len(dr_)/(2.*dt) for dr_ in drs_true])/np.sum([len(dr_) for dr_ in drs_true])\n",
    "print \"  --- true matching: ---\"\n",
    "print \"    D_est =\", sol_true, \"(time to fit: \"+str(time()-t_true)+\"s )\" \n",
    "\n",
    "# Sum-product BP:\n",
    "t_BP=time()\n",
    "sol_BP=optim.minimize_scalar(marginal_minusLogLikelihood_multiFrame,bounds=[Da,Db],\\\n",
    "                                 args=(dt,drs_ij,L,mu_off,mu_on,Ns),method='bounded')\n",
    "print \"  --- non-tracking (BP): ---\"\n",
    "print \"    D_est =\", sol_BP.x, \"(time to fit: \"+str(time()-t_BP)+\"s )\" \n",
    "\n",
    "# MPA:\n",
    "t_MPA=time()\n",
    "sol_MP=optim.minimize_scalar(MPA_minusLogLikelihood_multiFrame,bounds=[Da,Db],\\\n",
    "                                 args=(dt,drs_ij,L,mu_off,mu_on,Ns),method='bounded')\n",
    "print \" --- most probable assignment: ---\"\n",
    "print \"    D_est =\", sol_MP.x, \"(time to fit: \"+str(time()-t_MPA)+\"s )\" \n"
   ]
  },
  {
   "cell_type": "code",
   "execution_count": null,
   "metadata": {
    "collapsed": false
   },
   "outputs": [],
   "source": []
  }
 ],
 "metadata": {
  "kernelspec": {
   "display_name": "Python 3",
   "language": "python",
   "name": "python3"
  },
  "language_info": {
   "codemirror_mode": {
    "name": "ipython",
    "version": 2
   },
   "file_extension": ".py",
   "mimetype": "text/x-python",
   "name": "python",
   "nbconvert_exporter": "python",
   "pygments_lexer": "ipython2",
   "version": "2.7.13"
  }
 },
 "nbformat": 4,
 "nbformat_minor": 2
}
