{
 "cells": [
  {
   "cell_type": "code",
   "execution_count": 12,
   "metadata": {
    "collapsed": true
   },
   "outputs": [],
   "source": [
    "from nonTracking import *\n",
    "#=============================================================================\n",
    "# Functions\n",
    "#=============================================================================\n",
    "def simulate_BM(L, rho, D, dt, p_off, mu_on, nF):\n",
    "    '''Generates sequence of distance matrices between all points in each pair \n",
    "    of succesive frames as well as the distances corresponding to the true\n",
    "    matchings.'''\n",
    "#    positions=[] # Positions in each frame\n",
    "    N=avg_N\n",
    "    drs_ij=[]\n",
    "    drs_true=[]\n",
    "    Ns=[N]\n",
    "    Ns_true=[]\n",
    "    for frame in range(nF):\n",
    "        x=array([L*rand(N)-L/2.,L*rand(N)-L/2]) # Initialize positions inside square\n",
    "        dr_true=reshape(sqrt(2*D*dt)*randn(2*N),[2,N]) # Particle displacements\n",
    "        y_true=x+dr_true # Positions in subsequent frame\n",
    "        #--- Simulate Blinking: ------------------------------------------------------\n",
    "        # Particles disappearing:\n",
    "        i_off=[]\n",
    "        for i in range(N):\n",
    "            if rand()<p_off:\n",
    "                i_off.append(i)\n",
    "        n_off=len(i_off)\n",
    "        dr_true=array([np.delete(dr_true[0],i_off),np.delete(dr_true[1],i_off)])\n",
    "        drs_true.append(dr_true)\n",
    "        # Particles appearing:\n",
    "        m_on=np.random.poisson(mu_on)\n",
    "        y_new=array([L*rand(m_on)-L/2.,L*rand(m_on)-L/2])+reshape(sqrt(2*D*dt)*randn(2*m_on),[2,m_on])\n",
    "        #--- Calculate observed positions: -------------------------------------------\n",
    "        y=array([np.append(np.delete(y_true[0],i_off),y_new[0]),np.append(np.delete(y_true[1],i_off),y_new[1])])\n",
    "        N_true=N-n_off\n",
    "        Ns_true.append(N_true)\n",
    "        M=N_true+m_on\n",
    "        Delta=M-N\n",
    "        # True assignement matrix:\n",
    "        pi_ij_true=zeros([N,M])\n",
    "        for i_,j_ in zip(np.delete(arange(N),i_off),range(N_true)):\n",
    "            pi_ij_true[i_,j_]=1.\n",
    "        mpa_row_true=np.delete(arange(N),i_off)\n",
    "        mpa_col_true=np.arange(N_true)\n",
    "        # Matrix of distances:\n",
    "        dr_ij=distance_matrices(x,y)\n",
    "        drs_ij.append(dr_ij)\n",
    "        # Update for next frame and add data to arrays:\n",
    "        N=M\n",
    "        Ns.append(N)\n",
    "    return (Ns_true, drs_true, Ns, drs_ij) \n"
   ]
  },
  {
   "cell_type": "code",
   "execution_count": 33,
   "metadata": {
    "collapsed": false
   },
   "outputs": [
    {
     "name": "stdout",
     "output_type": "stream",
     "text": [
      "Parameter values: L = 3.16227766017 ; rho = 1.0 ; D = 1.0 ; dt = 0.01 ; p_off = 0.25 ; mu_on + 2.5 ; number of frames: 100\n",
      "\\Average number of particles per frame: 10.7128712871\n",
      "Average number of true links per frame: 8.03\n",
      "\n",
      "Fit using:\n",
      "  --- true matching: ---\n",
      "    D_est = 1.05358162347 (time to fit: 0.00217008590698s )\n",
      "  --- non-tracking (BP): ---\n",
      "    D_est = 0.9586699148 (time to fit: 28.7526910305s )\n",
      " --- most probable assignment: ---\n",
      "    D_est = 1.11184296648 (time to fit: 21.2193648815s )\n"
     ]
    }
   ],
   "source": [
    "#=============================================================================\n",
    "# Parameters\n",
    "#=============================================================================\n",
    "# Initialize seed of PRNG:\n",
    "seed(129041982)\n",
    "#-----------------------------------------------------------------------------\n",
    "# Physical parameters:\n",
    "#-----------------------------------------------------------------------------\n",
    "L=sqrt(10.) # Linear size of box [mu]\n",
    "rho=1. # Particle density [1/mu^2]\n",
    "avg_N=int(rho*L**2) # Average number of particles in each frame\n",
    "D=1. # Diffusion coefficient [mu^2/s]\n",
    "dt=0.01 # Time lapse between images [s]\n",
    "p_off=0.25 # Probability for each particle to disappear per frame\n",
    "mu_off=avg_N*p_off # Average number of particles disappearing per frame\n",
    "mu_on=mu_off # Average number of particles appearing per frame (set equal to mu_off)\n",
    "nF=100 # Number of time lapses recorded (= number of frames minus one)\n",
    "ensembleSize=10 # Size of Monte Carlo ensemble\n",
    "tries=1 # Number of \n",
    "nL=0.0001\n",
    "#-----------------------------------------------------------------------------\n",
    "# Fit parameters:\n",
    "#-----------------------------------------------------------------------------\n",
    "Da=0.1*D\n",
    "Db=10.*D\n",
    "\n",
    "t_tot=time()\n",
    "print \"Parameter values: L =\",L, \"; rho =\",rho, \"; D =\",D, \"; dt =\",dt, \"; p_off =\",p_off, \"; mu_on +\", mu_on, \"; number of frames:\",nF\n",
    "\n",
    "# Generate trajectories:\n",
    "Ns_true, drs_true, Ns, drs_ij = simulate_BM(L, rho, D, dt, p_off, mu_on, nF)\n",
    "print \"\\Average number of particles per frame: \"+str(np.average(Ns))\n",
    "print \"Average number of true links per frame: \"+str(np.average(Ns_true))\n",
    "\n",
    "print \"\\nFit using:\"\n",
    "# True assignment:\n",
    "t_true=time()\n",
    "sol_true=np.sum([np.average(dr_**2)*len(dr_)/(2.*dt) for dr_ in drs_true])/np.sum([len(dr_) for dr_ in drs_true])\n",
    "print \"  --- true matching: ---\"\n",
    "print \"    D_est =\", sol_true, \"(time to fit: \"+str(time()-t_true)+\"s )\" \n",
    "\n",
    "# Sum-product BP:\n",
    "t_BP=time()\n",
    "sol_BP=optim.minimize_scalar(marginal_minusLogLikelihood_multiframe,bounds=[Da,Db],\\\n",
    "                             args=(dt,drs_ij,gamma,epsilon,max_it,L,mu_off,mu_on,Ns,tries,nL),method='bounded')\n",
    "print \"  --- non-tracking (BP): ---\"\n",
    "print \"    D_est =\", sol_BP.x, \"(time to fit: \"+str(time()-t_BP)+\"s )\" \n",
    "\n",
    "# MPA:\n",
    "t_MPA=time()\n",
    "sol_MP=optim.minimize_scalar(MPA_minusLogLikelihood_multiframe,bounds=[Da,Db],\\\n",
    "                             args=(dt,drs_ij,L,mu_off,mu_on,Ns),method='bounded')\n",
    "print \" --- most probable assignment: ---\"\n",
    "print \"    D_est =\", sol_MP.x, \"(time to fit: \"+str(time()-t_MPA)+\"s )\" \n"
   ]
  },
  {
   "cell_type": "code",
   "execution_count": null,
   "metadata": {
    "collapsed": true
   },
   "outputs": [],
   "source": []
  }
 ],
 "metadata": {
  "kernelspec": {
   "display_name": "Python 3",
   "language": "python",
   "name": "python3"
  },
  "language_info": {
   "codemirror_mode": {
    "name": "ipython",
    "version": 2
   },
   "file_extension": ".py",
   "mimetype": "text/x-python",
   "name": "python",
   "nbconvert_exporter": "python",
   "pygments_lexer": "ipython2",
   "version": "2.7.13"
  }
 },
 "nbformat": 4,
 "nbformat_minor": 2
}
